{
 "cells": [
  {
   "cell_type": "markdown",
   "metadata": {},
   "source": [
    "# Exploratory Data Analysis\n\n",
    "- **Data Overview**\n",
    "- **Distribution of Complexity Metrics**\n",
    "- **Correlation Analysis**\n",
    "- **Visualization of Embeddings**"
  ]
  },
  {
   "cell_type": "code",
   "metadata": {},
   "source": [
    "# Add your EDA code here"
  ],
   "execution_count": null,
   "outputs": []
  }
 ],
 "metadata": {
  "kernelspec": {
   "display_name": "Python 3",
   "language": "python",
   "name": "python3"
  },
  "language_info": {
   "name": "python",
   "version": "3.9.7",
   "mimetype": "text/x-python",
   "codemirror_mode": {
    "name": "ipython",
    "version": 3
   },
   "pygments_lexer": "ipython3",
   "nbconvert_exporter": "python",
   "file_extension": ".py"
  }
 },
 "nbformat": 4,
 "nbformat_minor": 5
}
